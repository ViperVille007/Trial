{
 "cells": [
  {
   "cell_type": "markdown",
   "id": "charitable-harrison",
   "metadata": {},
   "source": [
    "###### Download MySQL Python connector library\n",
    "!pip install mysql-connector-python"
   ]
  },
  {
   "cell_type": "markdown",
   "id": "active-detroit",
   "metadata": {},
   "source": [
    "# Making connection with MySQL Server"
   ]
  },
  {
   "cell_type": "code",
   "execution_count": 1,
   "id": "discrete-investigator",
   "metadata": {},
   "outputs": [],
   "source": [
    "# Import library\n",
    "import mysql.connector"
   ]
  },
  {
   "cell_type": "markdown",
   "id": "advisory-keyboard",
   "metadata": {},
   "source": [
    "----\n",
    "To make connection with MySQL server we have to use the **`connect()`** method. We have to provide the -\n",
    "- MySQL server location\n",
    "- Username\n",
    "- Password of user\n",
    "\n",
    "\n",
    "-----"
   ]
  },
  {
   "cell_type": "code",
   "execution_count": 2,
   "id": "indie-outside",
   "metadata": {},
   "outputs": [],
   "source": [
    "# Make connection object\n",
    "db_conn = mysql.connector.connect(\n",
    "                                    host=\"localhost\",\n",
    "                                    user=\"aniruddha\",\n",
    "                                    password=\"Abc@123\"\n",
    "                                )"
   ]
  },
  {
   "cell_type": "code",
   "execution_count": 3,
   "id": "alpine-asset",
   "metadata": {},
   "outputs": [
    {
     "name": "stdout",
     "output_type": "stream",
     "text": [
      "<mysql.connector.connection_cext.CMySQLConnection object at 0x7f5b30299d68>\n"
     ]
    }
   ],
   "source": [
    "# Connection object\n",
    "print(db_conn)"
   ]
  },
  {
   "cell_type": "markdown",
   "id": "competent-substance",
   "metadata": {},
   "source": [
    "----\n",
    "Create a cursor which will implement SQL commands on the database. It is created using the **`cursor()`** method.\n",
    "\n",
    "----"
   ]
  },
  {
   "cell_type": "code",
   "execution_count": 4,
   "id": "minute-spirit",
   "metadata": {},
   "outputs": [],
   "source": [
    "# Create cursor object\n",
    "cursor = db_conn.cursor()"
   ]
  },
  {
   "cell_type": "code",
   "execution_count": 5,
   "id": "designed-utilization",
   "metadata": {},
   "outputs": [
    {
     "data": {
      "text/plain": [
       "<mysql.connector.cursor_cext.CMySQLCursor at 0x7f5b30219160>"
      ]
     },
     "execution_count": 5,
     "metadata": {},
     "output_type": "execute_result"
    }
   ],
   "source": [
    "# Cursor object \n",
    "cursor"
   ]
  },
  {
   "cell_type": "markdown",
   "id": "failing-behavior",
   "metadata": {},
   "source": [
    "---\n",
    "To execute SQL queries, we have to use **`execute()`** method of the cursor object.\n",
    "\n",
    "---"
   ]
  },
  {
   "cell_type": "code",
   "execution_count": 6,
   "id": "engaging-structure",
   "metadata": {},
   "outputs": [],
   "source": [
    "# Execute sql query\n",
    "cursor.execute(\"show databases\")"
   ]
  },
  {
   "cell_type": "markdown",
   "id": "intensive-truck",
   "metadata": {},
   "source": [
    "---\n",
    "To fetch all the records from the output of an executed SQL query, we have to use **`fetchall()`** method of the cursor object.\n",
    "\n",
    "---"
   ]
  },
  {
   "cell_type": "code",
   "execution_count": 7,
   "id": "emerging-gather",
   "metadata": {
    "scrolled": true
   },
   "outputs": [
    {
     "data": {
      "text/plain": [
       "[('DEMO',),\n",
       " ('JobPortal',),\n",
       " ('company',),\n",
       " ('fifa19',),\n",
       " ('hr_db',),\n",
       " ('information_schema',),\n",
       " ('movies',),\n",
       " ('mysql',),\n",
       " ('performance_schema',),\n",
       " ('sakila',),\n",
       " ('sql_hack',),\n",
       " ('sys',)]"
      ]
     },
     "execution_count": 7,
     "metadata": {},
     "output_type": "execute_result"
    }
   ],
   "source": [
    "# Fetch the result of the executed query\n",
    "cursor.fetchall()"
   ]
  },
  {
   "cell_type": "markdown",
   "id": "marked-safety",
   "metadata": {},
   "source": [
    "---\n",
    "Use database.\n",
    "\n",
    "---"
   ]
  },
  {
   "cell_type": "code",
   "execution_count": 8,
   "id": "precious-horror",
   "metadata": {},
   "outputs": [],
   "source": [
    "# use database\n",
    "cursor.execute(\"use DEMO\")"
   ]
  },
  {
   "cell_type": "markdown",
   "id": "outer-guarantee",
   "metadata": {},
   "source": [
    "----\n",
    "Show tables in a database.\n",
    "\n",
    "---"
   ]
  },
  {
   "cell_type": "code",
   "execution_count": 9,
   "id": "rocky-catering",
   "metadata": {},
   "outputs": [
    {
     "data": {
      "text/plain": [
       "[('UserDetails',), ('emp',), ('sales',), ('t1',), ('t2',)]"
      ]
     },
     "execution_count": 9,
     "metadata": {},
     "output_type": "execute_result"
    }
   ],
   "source": [
    "# show tables\n",
    "cursor.execute(\"show tables\")\n",
    "cursor.fetchall()"
   ]
  },
  {
   "cell_type": "markdown",
   "id": "charitable-primary",
   "metadata": {},
   "source": [
    "---\n",
    "To close the current cursor object, we use the **`close()`** method of the cursor object.\n",
    "\n",
    "----"
   ]
  },
  {
   "cell_type": "code",
   "execution_count": 10,
   "id": "atlantic-chicago",
   "metadata": {},
   "outputs": [
    {
     "data": {
      "text/plain": [
       "True"
      ]
     },
     "execution_count": 10,
     "metadata": {},
     "output_type": "execute_result"
    }
   ],
   "source": [
    "# Close cursor\n",
    "cursor.close()"
   ]
  },
  {
   "cell_type": "markdown",
   "id": "arctic-fusion",
   "metadata": {},
   "source": [
    "----\n",
    "To close the connection with the database, we have to use the **`close()`** method of the database connection object.\n",
    "\n",
    "----"
   ]
  },
  {
   "cell_type": "code",
   "execution_count": 11,
   "id": "signed-petroleum",
   "metadata": {},
   "outputs": [],
   "source": [
    "# Close database connection\n",
    "db_conn.close()"
   ]
  },
  {
   "cell_type": "markdown",
   "id": "floral-empty",
   "metadata": {},
   "source": [
    "----\n",
    "We can even use a specific database directly while creating a connection with the MySQL server. This will skip the *`use <database_name>`* step that we have to implement to start working with a database.\n",
    "\n",
    "----"
   ]
  },
  {
   "cell_type": "code",
   "execution_count": 12,
   "id": "meaning-crawford",
   "metadata": {},
   "outputs": [],
   "source": [
    "# Connecting with `DEMO` database\n",
    "db_conn = mysql.connector.connect(\n",
    "                                    host=\"localhost\",\n",
    "                                    user=\"aniruddha\",\n",
    "                                    password=\"Abc@123\",\n",
    "                                    database=\"DEMO\"\n",
    "                                )"
   ]
  },
  {
   "cell_type": "code",
   "execution_count": 13,
   "id": "pharmaceutical-library",
   "metadata": {},
   "outputs": [],
   "source": [
    "# Create cursor \n",
    "cursor = db_conn.cursor()"
   ]
  },
  {
   "cell_type": "code",
   "execution_count": 14,
   "id": "baking-october",
   "metadata": {
    "scrolled": true
   },
   "outputs": [
    {
     "data": {
      "text/plain": [
       "[('UserDetails',), ('emp',), ('sales',), ('t1',), ('t2',)]"
      ]
     },
     "execution_count": 14,
     "metadata": {},
     "output_type": "execute_result"
    }
   ],
   "source": [
    "# Show tables\n",
    "cursor.execute(\"show tables\")\n",
    "cursor.fetchall()"
   ]
  },
  {
   "cell_type": "code",
   "execution_count": 15,
   "id": "chronic-principle",
   "metadata": {},
   "outputs": [
    {
     "data": {
      "text/plain": [
       "True"
      ]
     },
     "execution_count": 15,
     "metadata": {},
     "output_type": "execute_result"
    }
   ],
   "source": [
    "# Close cursor\n",
    "cursor.close()"
   ]
  },
  {
   "cell_type": "code",
   "execution_count": 16,
   "id": "miniature-virtue",
   "metadata": {},
   "outputs": [],
   "source": [
    "# Close database connection\n",
    "db_conn.close()"
   ]
  },
  {
   "cell_type": "code",
   "execution_count": null,
   "id": "growing-azerbaijan",
   "metadata": {},
   "outputs": [],
   "source": []
  },
  {
   "cell_type": "code",
   "execution_count": null,
   "id": "stupid-ideal",
   "metadata": {},
   "outputs": [],
   "source": []
  },
  {
   "cell_type": "code",
   "execution_count": null,
   "id": "bored-channel",
   "metadata": {},
   "outputs": [],
   "source": []
  },
  {
   "cell_type": "code",
   "execution_count": null,
   "id": "urban-action",
   "metadata": {},
   "outputs": [],
   "source": []
  },
  {
   "cell_type": "code",
   "execution_count": null,
   "id": "willing-angola",
   "metadata": {},
   "outputs": [],
   "source": []
  },
  {
   "cell_type": "markdown",
   "id": "liable-geneva",
   "metadata": {},
   "source": [
    "# Implementing basic SQL commands with connector"
   ]
  },
  {
   "cell_type": "code",
   "execution_count": 17,
   "id": "alpine-apple",
   "metadata": {},
   "outputs": [],
   "source": [
    "# Connecting with `DEMO` database\n",
    "db_conn = mysql.connector.connect(\n",
    "                                    host=\"localhost\",\n",
    "                                    user=\"aniruddha\",\n",
    "                                    password=\"Abc@123\",\n",
    "                                    database=\"DEMO\"\n",
    "                                )"
   ]
  },
  {
   "cell_type": "code",
   "execution_count": 18,
   "id": "secondary-triumph",
   "metadata": {},
   "outputs": [],
   "source": [
    "# Create cursor \n",
    "cursor = db_conn.cursor()"
   ]
  },
  {
   "cell_type": "code",
   "execution_count": 19,
   "id": "encouraging-livestock",
   "metadata": {},
   "outputs": [
    {
     "data": {
      "text/plain": [
       "[('UserDetails',), ('emp',), ('sales',), ('t1',), ('t2',)]"
      ]
     },
     "execution_count": 19,
     "metadata": {},
     "output_type": "execute_result"
    }
   ],
   "source": [
    "# Show tables\n",
    "cursor.execute(\"show tables\")\n",
    "cursor.fetchall()"
   ]
  },
  {
   "cell_type": "markdown",
   "id": "correct-turkey",
   "metadata": {},
   "source": [
    "### Retrieving records from a table"
   ]
  },
  {
   "cell_type": "code",
   "execution_count": 20,
   "id": "periodic-manchester",
   "metadata": {},
   "outputs": [],
   "source": [
    "# Retrieve records from `sales` table\n",
    "cursor.execute(\"select * from sales\")"
   ]
  },
  {
   "cell_type": "code",
   "execution_count": 21,
   "id": "hawaiian-melissa",
   "metadata": {},
   "outputs": [
    {
     "data": {
      "text/plain": [
       "[(1, 'Harry', 'Iphone', datetime.date(2020, 9, 12), 2),\n",
       " (2, 'Julie', 'Headphone', datetime.date(2020, 9, 12), 1),\n",
       " (3, 'Crystal', 'Speaker', datetime.date(2020, 9, 12), 3)]"
      ]
     },
     "execution_count": 21,
     "metadata": {},
     "output_type": "execute_result"
    }
   ],
   "source": [
    "# Fetch records from executed query\n",
    "cursor.fetchall()"
   ]
  },
  {
   "cell_type": "code",
   "execution_count": 22,
   "id": "geological-probe",
   "metadata": {},
   "outputs": [
    {
     "data": {
      "text/plain": [
       "[(1, 'Harry', 'Iphone', datetime.date(2020, 9, 12), 2),\n",
       " (3, 'Crystal', 'Speaker', datetime.date(2020, 9, 12), 3)]"
      ]
     },
     "execution_count": 22,
     "metadata": {},
     "output_type": "execute_result"
    }
   ],
   "source": [
    "# Retrieve records from `sales` table\n",
    "cursor.execute(\"select * from sales where quantity > 1\")\n",
    "cursor.fetchall()"
   ]
  },
  {
   "cell_type": "markdown",
   "id": "amazing-dollar",
   "metadata": {},
   "source": [
    "### Inserting records into a table"
   ]
  },
  {
   "cell_type": "code",
   "execution_count": 23,
   "id": "multiple-mirror",
   "metadata": {},
   "outputs": [],
   "source": [
    "# Insert records\n",
    "cursor.execute(\"insert into sales values(4, 'Daniel', 'Laptop', '2020-10-11', 3)\")"
   ]
  },
  {
   "cell_type": "code",
   "execution_count": 24,
   "id": "opponent-island",
   "metadata": {},
   "outputs": [
    {
     "data": {
      "text/plain": [
       "[(1, 'Harry', 'Iphone', datetime.date(2020, 9, 12), 2),\n",
       " (2, 'Julie', 'Headphone', datetime.date(2020, 9, 12), 1),\n",
       " (3, 'Crystal', 'Speaker', datetime.date(2020, 9, 12), 3),\n",
       " (4, 'Daniel', 'Laptop', datetime.date(2020, 10, 11), 3)]"
      ]
     },
     "execution_count": 24,
     "metadata": {},
     "output_type": "execute_result"
    }
   ],
   "source": [
    "# Retrieve records\n",
    "cursor.execute(\"select * from sales\")\n",
    "cursor.fetchall()"
   ]
  },
  {
   "cell_type": "markdown",
   "id": "smart-chain",
   "metadata": {},
   "source": [
    "---\n",
    "To commint the changes to the database, we have to use the **`commit()`** method of the database conneciton object.\n",
    "\n",
    "----"
   ]
  },
  {
   "cell_type": "markdown",
   "id": "significant-sunday",
   "metadata": {},
   "source": [
    "*Check database from mysql shell.*"
   ]
  },
  {
   "cell_type": "code",
   "execution_count": 25,
   "id": "broadband-archives",
   "metadata": {},
   "outputs": [],
   "source": [
    "# Commit changes to database\n",
    "db_conn.commit()"
   ]
  },
  {
   "cell_type": "markdown",
   "id": "human-frost",
   "metadata": {},
   "source": [
    "*Now check the updated database from MySQL shell.*"
   ]
  },
  {
   "cell_type": "markdown",
   "id": "isolated-humidity",
   "metadata": {},
   "source": [
    "----\n",
    "### Insert multiple records into a table\n",
    "\n",
    "----"
   ]
  },
  {
   "cell_type": "code",
   "execution_count": 26,
   "id": "seven-brother",
   "metadata": {},
   "outputs": [],
   "source": [
    "# Records \n",
    "data = [(5, 'Niel', 'Headphone', '2020-10-12', 1),\n",
    "        (6, 'Simran', 'Monitor', '2020-10-12', 1)]"
   ]
  },
  {
   "cell_type": "code",
   "execution_count": 27,
   "id": "signed-friendship",
   "metadata": {},
   "outputs": [],
   "source": [
    "# Insert query. Specify parameter using %s\n",
    "stmt = \"insert into sales values(%s, %s, %s, %s, %s)\""
   ]
  },
  {
   "cell_type": "markdown",
   "id": "married-amsterdam",
   "metadata": {},
   "source": [
    "----\n",
    "To insert multiple records together, we have to use the **`executemany()`** method of the cursor object. \n",
    "\n",
    "It takes a query and a set of parameters. It implements the query with all the parameters. \n",
    "\n",
    "---"
   ]
  },
  {
   "cell_type": "code",
   "execution_count": 28,
   "id": "appreciated-marriage",
   "metadata": {},
   "outputs": [],
   "source": [
    "# Insert multiple records\n",
    "cursor.executemany(stmt, data)"
   ]
  },
  {
   "cell_type": "code",
   "execution_count": null,
   "id": "liquid-pregnancy",
   "metadata": {},
   "outputs": [],
   "source": [
    "### Fetch records\n",
    "cursor.execute(\"select * from sales\")\n",
    "cursor.fetchall()"
   ]
  },
  {
   "cell_type": "markdown",
   "id": "signal-argentina",
   "metadata": {},
   "source": [
    "### Updating records in a table"
   ]
  },
  {
   "cell_type": "code",
   "execution_count": 30,
   "id": "artificial-entry",
   "metadata": {},
   "outputs": [],
   "source": [
    "# Update record\n",
    "cursor.execute(\"update sales set name='Tom' where name='Harry'\")"
   ]
  },
  {
   "cell_type": "code",
   "execution_count": 31,
   "id": "vulnerable-saying",
   "metadata": {},
   "outputs": [
    {
     "data": {
      "text/plain": [
       "[(1, 'Tom', 'Iphone', datetime.date(2020, 9, 12), 2)]"
      ]
     },
     "execution_count": 31,
     "metadata": {},
     "output_type": "execute_result"
    }
   ],
   "source": [
    "# Retrieve records\n",
    "cursor.execute(\"select * from sales where name='Tom'\")\n",
    "cursor.fetchall()"
   ]
  },
  {
   "cell_type": "markdown",
   "id": "personalized-heath",
   "metadata": {},
   "source": [
    "### Deleting records from a table"
   ]
  },
  {
   "cell_type": "code",
   "execution_count": 32,
   "id": "textile-verification",
   "metadata": {},
   "outputs": [],
   "source": [
    "# Update record\n",
    "cursor.execute(\"delete from sales where name='Tom'\")"
   ]
  },
  {
   "cell_type": "code",
   "execution_count": 33,
   "id": "rolled-level",
   "metadata": {},
   "outputs": [
    {
     "data": {
      "text/plain": [
       "[]"
      ]
     },
     "execution_count": 33,
     "metadata": {},
     "output_type": "execute_result"
    }
   ],
   "source": [
    "# Retrieve records\n",
    "cursor.execute(\"select * from sales where name='Tom'\")\n",
    "cursor.fetchall()"
   ]
  },
  {
   "cell_type": "code",
   "execution_count": 34,
   "id": "organic-reference",
   "metadata": {},
   "outputs": [],
   "source": [
    "# Commit changes\n",
    "db_conn.commit()"
   ]
  },
  {
   "cell_type": "markdown",
   "id": "electrical-drilling",
   "metadata": {},
   "source": [
    "---\n",
    "Similarly all the other SQL commands can be implemented using MySQL Python connector.\n",
    "\n",
    "----"
   ]
  },
  {
   "cell_type": "code",
   "execution_count": null,
   "id": "abandoned-scoop",
   "metadata": {},
   "outputs": [],
   "source": []
  },
  {
   "cell_type": "code",
   "execution_count": null,
   "id": "subsequent-oakland",
   "metadata": {},
   "outputs": [],
   "source": []
  },
  {
   "cell_type": "code",
   "execution_count": null,
   "id": "german-thomson",
   "metadata": {},
   "outputs": [],
   "source": []
  },
  {
   "cell_type": "code",
   "execution_count": null,
   "id": "freelance-burst",
   "metadata": {},
   "outputs": [],
   "source": []
  },
  {
   "cell_type": "code",
   "execution_count": null,
   "id": "metric-consumer",
   "metadata": {},
   "outputs": [],
   "source": []
  },
  {
   "cell_type": "markdown",
   "id": "sporting-custom",
   "metadata": {},
   "source": [
    "### SQL into Pandas DataFrame"
   ]
  },
  {
   "cell_type": "code",
   "execution_count": 35,
   "id": "animated-herald",
   "metadata": {},
   "outputs": [],
   "source": [
    "# Connecting with `DEMO` database\n",
    "db_conn = mysql.connector.connect(\n",
    "                                    host=\"localhost\",\n",
    "                                    user=\"aniruddha\",\n",
    "                                    password=\"Abc@123\",\n",
    "                                    database=\"DEMO\"\n",
    "                                )"
   ]
  },
  {
   "cell_type": "code",
   "execution_count": 36,
   "id": "industrial-miami",
   "metadata": {},
   "outputs": [],
   "source": [
    "# Create cursor \n",
    "cursor = db_conn.cursor()"
   ]
  },
  {
   "cell_type": "code",
   "execution_count": 37,
   "id": "nervous-stock",
   "metadata": {},
   "outputs": [],
   "source": [
    "# Import pandas\n",
    "import pandas as pd"
   ]
  },
  {
   "cell_type": "code",
   "execution_count": 38,
   "id": "fallen-addiction",
   "metadata": {},
   "outputs": [],
   "source": [
    "# Execute statement\n",
    "cursor.execute(\"select * from sales\")\n",
    "\n",
    "# Fetch result\n",
    "data = cursor.fetchall()"
   ]
  },
  {
   "cell_type": "code",
   "execution_count": 39,
   "id": "native-investor",
   "metadata": {},
   "outputs": [],
   "source": [
    "# Convert result to pandas dataframe\n",
    "df = pd.DataFrame.from_records(data, columns=['id',\n",
    "                                              'name',\n",
    "                                              'product',\n",
    "                                              'sale_date',\n",
    "                                              'quantity'])"
   ]
  },
  {
   "cell_type": "code",
   "execution_count": 40,
   "id": "printable-oxygen",
   "metadata": {},
   "outputs": [
    {
     "data": {
      "text/html": [
       "<div>\n",
       "<style scoped>\n",
       "    .dataframe tbody tr th:only-of-type {\n",
       "        vertical-align: middle;\n",
       "    }\n",
       "\n",
       "    .dataframe tbody tr th {\n",
       "        vertical-align: top;\n",
       "    }\n",
       "\n",
       "    .dataframe thead th {\n",
       "        text-align: right;\n",
       "    }\n",
       "</style>\n",
       "<table border=\"1\" class=\"dataframe\">\n",
       "  <thead>\n",
       "    <tr style=\"text-align: right;\">\n",
       "      <th></th>\n",
       "      <th>id</th>\n",
       "      <th>name</th>\n",
       "      <th>product</th>\n",
       "      <th>sale_date</th>\n",
       "      <th>quantity</th>\n",
       "    </tr>\n",
       "  </thead>\n",
       "  <tbody>\n",
       "    <tr>\n",
       "      <th>0</th>\n",
       "      <td>2</td>\n",
       "      <td>Julie</td>\n",
       "      <td>Headphone</td>\n",
       "      <td>2020-09-12</td>\n",
       "      <td>1</td>\n",
       "    </tr>\n",
       "    <tr>\n",
       "      <th>1</th>\n",
       "      <td>3</td>\n",
       "      <td>Crystal</td>\n",
       "      <td>Speaker</td>\n",
       "      <td>2020-09-12</td>\n",
       "      <td>3</td>\n",
       "    </tr>\n",
       "    <tr>\n",
       "      <th>2</th>\n",
       "      <td>4</td>\n",
       "      <td>Daniel</td>\n",
       "      <td>Laptop</td>\n",
       "      <td>2020-10-11</td>\n",
       "      <td>3</td>\n",
       "    </tr>\n",
       "    <tr>\n",
       "      <th>3</th>\n",
       "      <td>5</td>\n",
       "      <td>Niel</td>\n",
       "      <td>Headphone</td>\n",
       "      <td>2020-10-12</td>\n",
       "      <td>1</td>\n",
       "    </tr>\n",
       "    <tr>\n",
       "      <th>4</th>\n",
       "      <td>6</td>\n",
       "      <td>Simran</td>\n",
       "      <td>Monitor</td>\n",
       "      <td>2020-10-12</td>\n",
       "      <td>1</td>\n",
       "    </tr>\n",
       "  </tbody>\n",
       "</table>\n",
       "</div>"
      ],
      "text/plain": [
       "   id     name    product   sale_date  quantity\n",
       "0   2    Julie  Headphone  2020-09-12         1\n",
       "1   3  Crystal    Speaker  2020-09-12         3\n",
       "2   4   Daniel     Laptop  2020-10-11         3\n",
       "3   5     Niel  Headphone  2020-10-12         1\n",
       "4   6   Simran    Monitor  2020-10-12         1"
      ]
     },
     "execution_count": 40,
     "metadata": {},
     "output_type": "execute_result"
    }
   ],
   "source": [
    "df.head()"
   ]
  },
  {
   "cell_type": "markdown",
   "id": "personalized-uniform",
   "metadata": {},
   "source": [
    "### Pandas DataFrame to SQL"
   ]
  },
  {
   "cell_type": "code",
   "execution_count": 41,
   "id": "hybrid-terrorism",
   "metadata": {},
   "outputs": [
    {
     "data": {
      "text/html": [
       "<div>\n",
       "<style scoped>\n",
       "    .dataframe tbody tr th:only-of-type {\n",
       "        vertical-align: middle;\n",
       "    }\n",
       "\n",
       "    .dataframe tbody tr th {\n",
       "        vertical-align: top;\n",
       "    }\n",
       "\n",
       "    .dataframe thead th {\n",
       "        text-align: right;\n",
       "    }\n",
       "</style>\n",
       "<table border=\"1\" class=\"dataframe\">\n",
       "  <thead>\n",
       "    <tr style=\"text-align: right;\">\n",
       "      <th></th>\n",
       "      <th>id</th>\n",
       "      <th>name</th>\n",
       "      <th>product</th>\n",
       "      <th>sale_date</th>\n",
       "      <th>quantity</th>\n",
       "    </tr>\n",
       "  </thead>\n",
       "  <tbody>\n",
       "    <tr>\n",
       "      <th>0</th>\n",
       "      <td>2</td>\n",
       "      <td>Julie</td>\n",
       "      <td>Headphone</td>\n",
       "      <td>2020-09-12</td>\n",
       "      <td>1</td>\n",
       "    </tr>\n",
       "    <tr>\n",
       "      <th>1</th>\n",
       "      <td>3</td>\n",
       "      <td>Crystal</td>\n",
       "      <td>Speaker</td>\n",
       "      <td>2020-09-12</td>\n",
       "      <td>3</td>\n",
       "    </tr>\n",
       "    <tr>\n",
       "      <th>2</th>\n",
       "      <td>4</td>\n",
       "      <td>Daniel</td>\n",
       "      <td>Laptop</td>\n",
       "      <td>2020-10-11</td>\n",
       "      <td>3</td>\n",
       "    </tr>\n",
       "    <tr>\n",
       "      <th>3</th>\n",
       "      <td>5</td>\n",
       "      <td>Niel</td>\n",
       "      <td>Headphone</td>\n",
       "      <td>2020-10-12</td>\n",
       "      <td>1</td>\n",
       "    </tr>\n",
       "    <tr>\n",
       "      <th>4</th>\n",
       "      <td>6</td>\n",
       "      <td>Simran</td>\n",
       "      <td>Monitor</td>\n",
       "      <td>2020-10-12</td>\n",
       "      <td>1</td>\n",
       "    </tr>\n",
       "  </tbody>\n",
       "</table>\n",
       "</div>"
      ],
      "text/plain": [
       "   id     name    product   sale_date  quantity\n",
       "0   2    Julie  Headphone  2020-09-12         1\n",
       "1   3  Crystal    Speaker  2020-09-12         3\n",
       "2   4   Daniel     Laptop  2020-10-11         3\n",
       "3   5     Niel  Headphone  2020-10-12         1\n",
       "4   6   Simran    Monitor  2020-10-12         1"
      ]
     },
     "execution_count": 41,
     "metadata": {},
     "output_type": "execute_result"
    }
   ],
   "source": [
    "df"
   ]
  },
  {
   "cell_type": "code",
   "execution_count": 42,
   "id": "grateful-forth",
   "metadata": {},
   "outputs": [],
   "source": [
    "# Function to convert dataframe records to tuples\n",
    "def to_records(df):\n",
    "   \n",
    "    # list to store records as tuples\n",
    "    list_records = []\n",
    "    \n",
    "    # Converting each dataframe record to tuple\n",
    "    for row in df.to_records(index=False):\n",
    "        # Appending record tuple to a list\n",
    "        list_records.append(tuple((int(row[0]),row[1],row[2],row[3], int(row[4]))))\n",
    "    \n",
    "    # Return the list of tuples\n",
    "    return list_records"
   ]
  },
  {
   "cell_type": "code",
   "execution_count": 43,
   "id": "caroline-pharmaceutical",
   "metadata": {},
   "outputs": [],
   "source": [
    "# Convert dataframe records to list of tuples\n",
    "output_result = to_records(df)"
   ]
  },
  {
   "cell_type": "code",
   "execution_count": 44,
   "id": "going-papua",
   "metadata": {},
   "outputs": [
    {
     "data": {
      "text/plain": [
       "[(2, 'Julie', 'Headphone', datetime.date(2020, 9, 12), 1),\n",
       " (3, 'Crystal', 'Speaker', datetime.date(2020, 9, 12), 3),\n",
       " (4, 'Daniel', 'Laptop', datetime.date(2020, 10, 11), 3),\n",
       " (5, 'Niel', 'Headphone', datetime.date(2020, 10, 12), 1),\n",
       " (6, 'Simran', 'Monitor', datetime.date(2020, 10, 12), 1)]"
      ]
     },
     "execution_count": 44,
     "metadata": {},
     "output_type": "execute_result"
    }
   ],
   "source": [
    "output_result"
   ]
  },
  {
   "cell_type": "code",
   "execution_count": 45,
   "id": "noticed-mirror",
   "metadata": {},
   "outputs": [],
   "source": [
    "# Create a new table\n",
    "cursor.execute('''create table sales_2(id int, \n",
    "                                       name varchar(20), \n",
    "                                       product varchar(20),\n",
    "                                       sale_date date,\n",
    "                                       quantity int)''')"
   ]
  },
  {
   "cell_type": "code",
   "execution_count": 46,
   "id": "strong-dining",
   "metadata": {},
   "outputs": [],
   "source": [
    "# SQL query statement\n",
    "stmt = '''INSERT INTO sales_2(id, name, product, sale_date, quantity) \n",
    "             values(%s, %s, %s, %s, %s)'''\n",
    "\n",
    "# Execute query\n",
    "cursor.executemany(stmt, output_result)"
   ]
  },
  {
   "cell_type": "code",
   "execution_count": 47,
   "id": "persistent-packet",
   "metadata": {},
   "outputs": [
    {
     "data": {
      "text/plain": [
       "[(2, 'Julie', 'Headphone', datetime.date(2020, 9, 12), 1),\n",
       " (3, 'Crystal', 'Speaker', datetime.date(2020, 9, 12), 3),\n",
       " (4, 'Daniel', 'Laptop', datetime.date(2020, 10, 11), 3),\n",
       " (5, 'Niel', 'Headphone', datetime.date(2020, 10, 12), 1),\n",
       " (6, 'Simran', 'Monitor', datetime.date(2020, 10, 12), 1)]"
      ]
     },
     "execution_count": 47,
     "metadata": {},
     "output_type": "execute_result"
    }
   ],
   "source": [
    "# Retrieve \n",
    "cursor.execute(\"select * from sales_2\")\n",
    "cursor.fetchall()"
   ]
  },
  {
   "cell_type": "code",
   "execution_count": 48,
   "id": "senior-parade",
   "metadata": {},
   "outputs": [
    {
     "data": {
      "text/plain": [
       "True"
      ]
     },
     "execution_count": 48,
     "metadata": {},
     "output_type": "execute_result"
    }
   ],
   "source": [
    "cursor.close()"
   ]
  },
  {
   "cell_type": "code",
   "execution_count": 49,
   "id": "proud-arcade",
   "metadata": {
    "scrolled": true
   },
   "outputs": [],
   "source": [
    "db_conn.commit()"
   ]
  },
  {
   "cell_type": "code",
   "execution_count": null,
   "id": "turkish-grounds",
   "metadata": {},
   "outputs": [],
   "source": []
  }
 ],
 "metadata": {
  "kernelspec": {
   "display_name": "Python 3",
   "language": "python",
   "name": "python3"
  },
  "language_info": {
   "codemirror_mode": {
    "name": "ipython",
    "version": 3
   },
   "file_extension": ".py",
   "mimetype": "text/x-python",
   "name": "python",
   "nbconvert_exporter": "python",
   "pygments_lexer": "ipython3",
   "version": "3.7.3"
  }
 },
 "nbformat": 4,
 "nbformat_minor": 5
}
